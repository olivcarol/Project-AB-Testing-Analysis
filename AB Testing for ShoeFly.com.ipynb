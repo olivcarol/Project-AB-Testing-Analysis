{
 "cells": [
  {
   "cell_type": "markdown",
   "id": "6fea9c39",
   "metadata": {},
   "source": [
    "# Project: A/B Testing for ShoeFly.com"
   ]
  },
  {
   "cell_type": "markdown",
   "id": "8b833507",
   "metadata": {},
   "source": [
    "*This is a project proposed by Codecademy (www.codecademy.com) - course \"Data Science\", chapter \"Aggregates in Pandas\"*"
   ]
  },
  {
   "cell_type": "markdown",
   "id": "b2bdaaa9",
   "metadata": {},
   "source": [
    "Our favorite online shoe store, ShoeFly.com is performing an A/B Test. They have two different versions of an ad, which they have placed in emails, as well as in banner ads on Facebook, Twitter, and Google. They want to know how the two ads are performing on each of the different platforms on each day of the week. Help them analyze the data using aggregate measures."
   ]
  },
  {
   "cell_type": "markdown",
   "id": "4f3a7e01",
   "metadata": {},
   "source": [
    "## Analyzing Ad Sources:"
   ]
  },
  {
   "cell_type": "code",
   "execution_count": 18,
   "id": "2d952a74",
   "metadata": {},
   "outputs": [
    {
     "name": "stdout",
     "output_type": "stream",
     "text": [
      "                                user_id utm_source           day  \\\n",
      "0  008b7c6c-7272-471e-b90e-930d548bd8d7     google  6 - Saturday   \n",
      "1  009abb94-5e14-4b6c-bb1c-4f4df7aa7557   facebook    7 - Sunday   \n",
      "2  00f5d532-ed58-4570-b6d2-768df5f41aed    twitter   2 - Tuesday   \n",
      "3  011adc64-0f44-4fd9-a0bb-f1506d2ad439     google   2 - Tuesday   \n",
      "4  012137e6-7ae7-4649-af68-205b4702169c   facebook    7 - Sunday   \n",
      "\n",
      "  ad_click_timestamp experimental_group  \n",
      "0               7:18                  A  \n",
      "1                NaN                  B  \n",
      "2                NaN                  A  \n",
      "3                NaN                  B  \n",
      "4                NaN                  B  \n"
     ]
    }
   ],
   "source": [
    "import pandas as pd\n",
    "import matplotlib.pyplot as plt\n",
    "import seaborn as sns\n",
    "\n",
    "ad_clicks = pd.read_csv('ad_clicks.csv')\n",
    "\n",
    "print(ad_clicks.head())"
   ]
  },
  {
   "cell_type": "markdown",
   "id": "06eb3dbf",
   "metadata": {},
   "source": [
    "Your manager wants to know which ad platform is getting you the most views. How many views (i.e., rows of the table) came from each utm_source?"
   ]
  },
  {
   "cell_type": "code",
   "execution_count": 2,
   "id": "4c57f2cc",
   "metadata": {},
   "outputs": [
    {
     "name": "stdout",
     "output_type": "stream",
     "text": [
      "  utm_source  user_id\n",
      "0      email      255\n",
      "1   facebook      504\n",
      "2     google      680\n",
      "3    twitter      215\n"
     ]
    }
   ],
   "source": [
    "total_views_by_source = ad_clicks.groupby('utm_source').user_id.count().reset_index()\n",
    "\n",
    "print(total_views_by_source)"
   ]
  },
  {
   "cell_type": "markdown",
   "id": "09ea7063",
   "metadata": {},
   "source": [
    "If the column ad_click_timestamp is not null, then someone actually clicked on the ad that was displayed.\n",
    "Create a new column called is_click, which is True if ad_click_timestamp is not null and False otherwise."
   ]
  },
  {
   "cell_type": "code",
   "execution_count": 3,
   "id": "43986f0c",
   "metadata": {},
   "outputs": [
    {
     "name": "stdout",
     "output_type": "stream",
     "text": [
      "                                user_id utm_source           day  \\\n",
      "0  008b7c6c-7272-471e-b90e-930d548bd8d7     google  6 - Saturday   \n",
      "1  009abb94-5e14-4b6c-bb1c-4f4df7aa7557   facebook    7 - Sunday   \n",
      "2  00f5d532-ed58-4570-b6d2-768df5f41aed    twitter   2 - Tuesday   \n",
      "3  011adc64-0f44-4fd9-a0bb-f1506d2ad439     google   2 - Tuesday   \n",
      "4  012137e6-7ae7-4649-af68-205b4702169c   facebook    7 - Sunday   \n",
      "\n",
      "  ad_click_timestamp experimental_group  is_click  \n",
      "0               7:18                  A      True  \n",
      "1                NaN                  B     False  \n",
      "2                NaN                  A     False  \n",
      "3                NaN                  B     False  \n",
      "4                NaN                  B     False  \n"
     ]
    }
   ],
   "source": [
    "ad_clicks['is_click'] = ~ad_clicks.ad_click_timestamp.isnull()\n",
    "\n",
    "print(ad_clicks.head())"
   ]
  },
  {
   "cell_type": "markdown",
   "id": "599af968",
   "metadata": {},
   "source": [
    "We want to know the percent of people who clicked on ads from each utm_source.\n",
    "Start by grouping by utm_source and is_click and counting the number of user_id‘s in each of those groups. Save your answer to the variable clicks_by_source."
   ]
  },
  {
   "cell_type": "code",
   "execution_count": 4,
   "id": "ae3579fc",
   "metadata": {},
   "outputs": [
    {
     "name": "stdout",
     "output_type": "stream",
     "text": [
      "  utm_source  is_click  user_id\n",
      "0      email     False      175\n",
      "1      email      True       80\n",
      "2   facebook     False      324\n",
      "3   facebook      True      180\n",
      "4     google     False      441\n",
      "5     google      True      239\n",
      "6    twitter     False      149\n",
      "7    twitter      True       66\n"
     ]
    }
   ],
   "source": [
    "clicks_by_source = ad_clicks.groupby(['utm_source', 'is_click']).user_id.count().reset_index()\n",
    "\n",
    "print(clicks_by_source)"
   ]
  },
  {
   "cell_type": "markdown",
   "id": "0e2e7078",
   "metadata": {},
   "source": [
    "Now let’s pivot the data so that the columns are is_click (either True or False), the index is utm_source, and the values are user_id.\n",
    "Save your results to the variable clicks_pivot."
   ]
  },
  {
   "cell_type": "code",
   "execution_count": 6,
   "id": "3a4db485",
   "metadata": {},
   "outputs": [],
   "source": [
    "clicks_pivot = clicks_by_source.pivot(columns = 'is_click',\n",
    "  index = 'utm_source',\n",
    "  values = 'user_id')"
   ]
  },
  {
   "cell_type": "markdown",
   "id": "1d1c6b81",
   "metadata": {},
   "source": [
    "Create a new column in clicks_pivot called percent_clicked which is equal to the percent of users who clicked on the ad from each utm_source.\n",
    "Was there a difference in click rates for each source?"
   ]
  },
  {
   "cell_type": "code",
   "execution_count": 7,
   "id": "46d833be",
   "metadata": {},
   "outputs": [
    {
     "name": "stdout",
     "output_type": "stream",
     "text": [
      "is_click    False  True  percent_clicked\n",
      "utm_source                              \n",
      "email         175    80         0.313725\n",
      "facebook      324   180         0.357143\n",
      "google        441   239         0.351471\n",
      "twitter       149    66         0.306977\n"
     ]
    }
   ],
   "source": [
    "clicks_pivot['percent_clicked'] = clicks_pivot[True] / (clicks_pivot[True] + clicks_pivot[False])\n",
    "\n",
    "print(clicks_pivot)"
   ]
  },
  {
   "cell_type": "markdown",
   "id": "e35a2bde",
   "metadata": {},
   "source": [
    "## Analyzing an A/B Test:"
   ]
  },
  {
   "cell_type": "markdown",
   "id": "4a884e01",
   "metadata": {},
   "source": [
    "The column experimental_group tells us whether the user was shown Ad A or Ad B.\n",
    "Were approximately the same number of people shown both adds?"
   ]
  },
  {
   "cell_type": "code",
   "execution_count": 9,
   "id": "1aa91ffa",
   "metadata": {},
   "outputs": [
    {
     "name": "stdout",
     "output_type": "stream",
     "text": [
      "  experimental_group  user_id\n",
      "0                  A      827\n",
      "1                  B      827\n"
     ]
    }
   ],
   "source": [
    "groupby_expgroup = ad_clicks.groupby('experimental_group').user_id.count().reset_index()\n",
    "\n",
    "print(groupby_expgroup)"
   ]
  },
  {
   "cell_type": "markdown",
   "id": "5cec3e1f",
   "metadata": {},
   "source": [
    "Using the column is_click that we defined earlier, check to see if a greater percentage of users clicked on Ad A or Ad B."
   ]
  },
  {
   "cell_type": "code",
   "execution_count": 12,
   "id": "db0ba6c6",
   "metadata": {},
   "outputs": [
    {
     "name": "stdout",
     "output_type": "stream",
     "text": [
      "is_click            False  True  percent_clicked\n",
      "experimental_group                              \n",
      "A                     517   310         0.374849\n",
      "B                     572   255         0.308343\n"
     ]
    }
   ],
   "source": [
    "groupby_expgroup = ad_clicks.groupby(['experimental_group', 'is_click']).user_id.count().reset_index()\n",
    "\n",
    "clicks_pivot_abtest = groupby_expgroup.pivot(columns = 'is_click',\n",
    "  index = 'experimental_group',\n",
    "  values = 'user_id')\n",
    "\n",
    "clicks_pivot_abtest['percent_clicked'] = clicks_pivot_abtest[True] / (clicks_pivot_abtest[True] + clicks_pivot_abtest[False])\n",
    "\n",
    "print(clicks_pivot_abtest)"
   ]
  },
  {
   "cell_type": "markdown",
   "id": "fbc05296",
   "metadata": {},
   "source": [
    "The Product Manager for the A/B test thinks that the clicks might have changed by day of the week.\n",
    "Start by creating two DataFrames: a_clicks and b_clicks, which contain only the results for A group and B group, respectively."
   ]
  },
  {
   "cell_type": "code",
   "execution_count": 13,
   "id": "d8b974bf",
   "metadata": {},
   "outputs": [],
   "source": [
    "a_clicks = ad_clicks[ad_clicks.experimental_group == 'A']\n",
    "b_clicks = ad_clicks[ad_clicks.experimental_group == 'B']"
   ]
  },
  {
   "cell_type": "markdown",
   "id": "b84f06e8",
   "metadata": {},
   "source": [
    "For each group (a_clicks and b_clicks), calculate the percent of users who clicked on the ad by day."
   ]
  },
  {
   "cell_type": "code",
   "execution_count": 15,
   "id": "452fef6a",
   "metadata": {},
   "outputs": [
    {
     "name": "stdout",
     "output_type": "stream",
     "text": [
      "is_click       False  True  percent_clicked\n",
      "day                                        \n",
      "1 - Monday        70    43         0.380531\n",
      "2 - Tuesday       76    43         0.361345\n",
      "3 - Wednesday     86    38         0.306452\n",
      "4 - Thursday      69    47         0.405172\n",
      "5 - Friday        77    51         0.398438\n",
      "6 - Saturday      73    45         0.381356\n",
      "7 - Sunday        66    43         0.394495\n"
     ]
    }
   ],
   "source": [
    "#Group A:\n",
    "groupby_a = a_clicks.groupby(['is_click', 'day']).user_id.count().reset_index()\n",
    "\n",
    "clicks_atest = groupby_a.pivot(columns = 'is_click',\n",
    "  index = 'day',\n",
    "  values = 'user_id')\n",
    "\n",
    "clicks_atest['percent_clicked'] = clicks_atest[True] / (clicks_atest[True] + clicks_atest[False])\n",
    "\n",
    "print(clicks_atest)"
   ]
  },
  {
   "cell_type": "code",
   "execution_count": 16,
   "id": "f2cae7a4",
   "metadata": {},
   "outputs": [
    {
     "name": "stdout",
     "output_type": "stream",
     "text": [
      "is_click       False  True  percent_clicked\n",
      "day                                        \n",
      "1 - Monday        81    32         0.283186\n",
      "2 - Tuesday       74    45         0.378151\n",
      "3 - Wednesday     89    35         0.282258\n",
      "4 - Thursday      87    29         0.250000\n",
      "5 - Friday        90    38         0.296875\n",
      "6 - Saturday      76    42         0.355932\n",
      "7 - Sunday        75    34         0.311927\n"
     ]
    }
   ],
   "source": [
    "#Group B:\n",
    "groupby_b = b_clicks.groupby(['is_click', 'day']).user_id.count().reset_index()\n",
    "\n",
    "clicks_btest = groupby_b.pivot(columns = 'is_click',\n",
    "  index = 'day',\n",
    "  values = 'user_id')\n",
    "\n",
    "clicks_btest['percent_clicked'] = clicks_btest[True] / (clicks_btest[True] + clicks_btest[False])\n",
    "\n",
    "print(clicks_btest)"
   ]
  },
  {
   "cell_type": "markdown",
   "id": "ec933e9b",
   "metadata": {},
   "source": [
    "Based on the results above, we can see that overall the A test had better results, being the ad that I would recommend my company to use."
   ]
  }
 ],
 "metadata": {
  "kernelspec": {
   "display_name": "Python 3",
   "language": "python",
   "name": "python3"
  },
  "language_info": {
   "codemirror_mode": {
    "name": "ipython",
    "version": 3
   },
   "file_extension": ".py",
   "mimetype": "text/x-python",
   "name": "python",
   "nbconvert_exporter": "python",
   "pygments_lexer": "ipython3",
   "version": "3.8.3"
  }
 },
 "nbformat": 4,
 "nbformat_minor": 5
}
